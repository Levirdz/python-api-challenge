{
 "cells": [
  {
   "cell_type": "code",
   "execution_count": 1,
   "metadata": {},
   "outputs": [],
   "source": [
    "# Dependencies\n",
    "\n",
    "import requests\n",
    "import json"
   ]
  },
  {
   "cell_type": "code",
   "execution_count": 2,
   "metadata": {},
   "outputs": [],
   "source": [
    "# Base URL for GET requests to retrieve number/date facts\n",
    "\n",
    "base_url = \"http://numbersapi.com/\""
   ]
  },
  {
   "cell_type": "code",
   "execution_count": null,
   "metadata": {},
   "outputs": [],
   "source": [
    "# Ask the user what kind of data they would like to search for\n",
    "\n",
    "search_type = input(\"What type of data would you like to search for? {math, trivia, date, year} \")"
   ]
  },
  {
   "cell_type": "code",
   "execution_count": null,
   "metadata": {},
   "outputs": [],
   "source": [
    "# Create code to return a number fact\n",
    "\n",
    "if search_type.lower() == \"date\":\n",
    "    month = input(\"What month number would you like to search? [1-12] \")\n",
    "    day = input(\"What day number would yoyu like to search? [1-31] \")\n",
    "    requested_url = base_url + month + \"/\" + day + \"/\" + search_type.lower() + \"?json\"\n",
    "    response = requests.get(requested_url).json()\n",
    "    #print(json.dumps(response, indent = 4, sort_keys = Trye))\n",
    "    print(response[\"text\"])\n",
    "    \n",
    "else: \n",
    "    number = input(\"What number would you like to search for? \")\n",
    "    requested_url = f\"{base_url}{number}/{search_type.lower()}?json\"\n",
    "    response = requests.get(requested_url).json()\n",
    "    #print(json.dumps(response, indent = 4, sort_keys = True))\n",
    "    print(response[\"text\"])"
   ]
  }
 ],
 "metadata": {
  "kernelspec": {
   "display_name": "Python 3",
   "language": "python",
   "name": "python3"
  },
  "language_info": {
   "codemirror_mode": {
    "name": "ipython",
    "version": 3
   },
   "file_extension": ".py",
   "mimetype": "text/x-python",
   "name": "python",
   "nbconvert_exporter": "python",
   "pygments_lexer": "ipython3",
   "version": "3.7.6"
  },
  "varInspector": {
   "cols": {
    "lenName": 16,
    "lenType": 16,
    "lenVar": 40
   },
   "kernels_config": {
    "python": {
     "delete_cmd_postfix": "",
     "delete_cmd_prefix": "del ",
     "library": "var_list.py",
     "varRefreshCmd": "print(var_dic_list())"
    },
    "r": {
     "delete_cmd_postfix": ") ",
     "delete_cmd_prefix": "rm(",
     "library": "var_list.r",
     "varRefreshCmd": "cat(var_dic_list()) "
    }
   },
   "types_to_exclude": [
    "module",
    "function",
    "builtin_function_or_method",
    "instance",
    "_Feature"
   ],
   "window_display": false
  }
 },
 "nbformat": 4,
 "nbformat_minor": 2
}
