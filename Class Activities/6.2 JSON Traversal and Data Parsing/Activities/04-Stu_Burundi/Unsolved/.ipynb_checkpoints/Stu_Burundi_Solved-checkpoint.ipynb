{
 "cells": [
  {
   "cell_type": "code",
   "execution_count": 1,
   "metadata": {},
   "outputs": [],
   "source": [
    "# Dependencies\n",
    "\n",
    "import requests\n",
    "from config import api_key\n",
    "from pprint import pprint"
   ]
  },
  {
   "cell_type": "code",
   "execution_count": 2,
   "metadata": {},
   "outputs": [
    {
     "name": "stdout",
     "output_type": "stream",
     "text": [
      "{'base': 'stations',\n",
      " 'clouds': {'all': 25},\n",
      " 'cod': 200,\n",
      " 'coord': {'lat': -3.38, 'lon': 29.36},\n",
      " 'dt': 1598488566,\n",
      " 'id': 425378,\n",
      " 'main': {'feels_like': 24.92,\n",
      "          'grnd_level': 926,\n",
      "          'humidity': 49,\n",
      "          'pressure': 1013,\n",
      "          'sea_level': 1013,\n",
      "          'temp': 24.49,\n",
      "          'temp_max': 24.49,\n",
      "          'temp_min': 24.49},\n",
      " 'name': 'Bujumbura',\n",
      " 'sys': {'country': 'BI', 'sunrise': 1598500994, 'sunset': 1598544315},\n",
      " 'timezone': 7200,\n",
      " 'visibility': 10000,\n",
      " 'weather': [{'description': 'scattered clouds',\n",
      "              'icon': '03n',\n",
      "              'id': 802,\n",
      "              'main': 'Clouds'}],\n",
      " 'wind': {'deg': 9, 'speed': 0.75}}\n"
     ]
    }
   ],
   "source": [
    "# Build query URL and request your results in Celsius\n",
    "\n",
    "url = \"http://api.openweathermap.org/data/2.5/weather?\"\n",
    "city = \"Bujumbura\"\n",
    "units = \"metric\"\n",
    "\n",
    "query_url = url + \"appid=\" + api_key + \"&q=\" + city + \"&units=\" + units\n",
    "\n",
    "# Get weather data\n",
    "\n",
    "weather_response = requests.get(query_url)\n",
    "weather_json = weather_response.json()\n",
    "pprint(weather_json)"
   ]
  },
  {
   "cell_type": "code",
   "execution_count": 3,
   "metadata": {},
   "outputs": [
    {
     "data": {
      "text/plain": [
       "24.49"
      ]
     },
     "execution_count": 3,
     "metadata": {},
     "output_type": "execute_result"
    }
   ],
   "source": [
    "# Get temperature from JSON response\n",
    "\n",
    "temperature = weather_json[\"main\"][\"temp\"]\n",
    "temperature"
   ]
  },
  {
   "cell_type": "code",
   "execution_count": 4,
   "metadata": {},
   "outputs": [
    {
     "name": "stdout",
     "output_type": "stream",
     "text": [
      "The current temperature in Bujumbura is 24.49\n"
     ]
    }
   ],
   "source": [
    "# Report temperature\n",
    "print(f\"The current temperature in Bujumbura is {temperature}\")"
   ]
  }
 ],
 "metadata": {
  "kernelspec": {
   "display_name": "Python 3",
   "language": "python",
   "name": "python3"
  },
  "language_info": {
   "codemirror_mode": {
    "name": "ipython",
    "version": 3
   },
   "file_extension": ".py",
   "mimetype": "text/x-python",
   "name": "python",
   "nbconvert_exporter": "python",
   "pygments_lexer": "ipython3",
   "version": "3.7.6"
  },
  "varInspector": {
   "cols": {
    "lenName": 16,
    "lenType": 16,
    "lenVar": 40
   },
   "kernels_config": {
    "python": {
     "delete_cmd_postfix": "",
     "delete_cmd_prefix": "del ",
     "library": "var_list.py",
     "varRefreshCmd": "print(var_dic_list())"
    },
    "r": {
     "delete_cmd_postfix": ") ",
     "delete_cmd_prefix": "rm(",
     "library": "var_list.r",
     "varRefreshCmd": "cat(var_dic_list()) "
    }
   },
   "types_to_exclude": [
    "module",
    "function",
    "builtin_function_or_method",
    "instance",
    "_Feature"
   ],
   "window_display": false
  }
 },
 "nbformat": 4,
 "nbformat_minor": 2
}
